{
 "cells": [
  {
   "cell_type": "code",
   "execution_count": 1,
   "id": "8ed179b2",
   "metadata": {},
   "outputs": [],
   "source": [
    "import numpy as np              # Массивы (матрицы, векторы, линейная алгебра)\n",
    "import matplotlib.pyplot as plt # Научная графика\n",
    "%matplotlib inline \n",
    "    # Говорим jupyter'у, чтобы весь графический вывод был в браузере, а не в отдельном окне\n",
    "import pandas as pd             # Таблицы и временные ряды (dataframe, series)\n",
    "import seaborn as sns           # Еще больше красивой графики для визуализации данных\n",
    "import sklearn   # Алгоритмы машинного обучения\n",
    "import warnings\n",
    "warnings.filterwarnings('ignore')"
   ]
  },
  {
   "cell_type": "markdown",
   "id": "6229ed54",
   "metadata": {},
   "source": [
    "# Прогнозирование CHD заболевания\n",
    "Ранний прогноз сердечно-сосудистых заболеваний может помочь в принятии решений об изменении образа жизни у пациентов с высоким риском и, в свою очередь, уменьшить количество осложнений. Это исследование направлено на выявление заболевания по набору факторов риска."
   ]
  },
  {
   "cell_type": "markdown",
   "id": "0bfc3d4a",
   "metadata": {},
   "source": [
    "Загружаем данные:"
   ]
  },
  {
   "cell_type": "code",
   "execution_count": 2,
   "id": "22ff1638",
   "metadata": {},
   "outputs": [],
   "source": [
    "data_raw = pd.read_csv(\"Downloads/framingham_heart_disease.csv\")"
   ]
  },
  {
   "cell_type": "markdown",
   "id": "9844c5e4",
   "metadata": {},
   "source": [
    "Пропущенные значения:"
   ]
  },
  {
   "cell_type": "code",
   "execution_count": 3,
   "id": "b0dfcba9",
   "metadata": {},
   "outputs": [
    {
     "data": {
      "text/html": [
       "<div>\n",
       "<style scoped>\n",
       "    .dataframe tbody tr th:only-of-type {\n",
       "        vertical-align: middle;\n",
       "    }\n",
       "\n",
       "    .dataframe tbody tr th {\n",
       "        vertical-align: top;\n",
       "    }\n",
       "\n",
       "    .dataframe thead th {\n",
       "        text-align: right;\n",
       "    }\n",
       "</style>\n",
       "<table border=\"1\" class=\"dataframe\">\n",
       "  <thead>\n",
       "    <tr style=\"text-align: right;\">\n",
       "      <th></th>\n",
       "      <th>male</th>\n",
       "      <th>age</th>\n",
       "      <th>education</th>\n",
       "      <th>currentSmoker</th>\n",
       "      <th>cigsPerDay</th>\n",
       "      <th>BPMeds</th>\n",
       "      <th>prevalentStroke</th>\n",
       "      <th>prevalentHyp</th>\n",
       "      <th>diabetes</th>\n",
       "      <th>totChol</th>\n",
       "      <th>sysBP</th>\n",
       "      <th>diaBP</th>\n",
       "      <th>BMI</th>\n",
       "      <th>heartRate</th>\n",
       "      <th>glucose</th>\n",
       "      <th>TenYearCHD</th>\n",
       "    </tr>\n",
       "  </thead>\n",
       "  <tbody>\n",
       "    <tr>\n",
       "      <th>count</th>\n",
       "      <td>4238.000000</td>\n",
       "      <td>4238.000000</td>\n",
       "      <td>4133.000000</td>\n",
       "      <td>4238.000000</td>\n",
       "      <td>4209.000000</td>\n",
       "      <td>4185.000000</td>\n",
       "      <td>4238.000000</td>\n",
       "      <td>4238.000000</td>\n",
       "      <td>4238.000000</td>\n",
       "      <td>4188.000000</td>\n",
       "      <td>4238.000000</td>\n",
       "      <td>4238.000000</td>\n",
       "      <td>4219.000000</td>\n",
       "      <td>4237.000000</td>\n",
       "      <td>3850.000000</td>\n",
       "      <td>4238.000000</td>\n",
       "    </tr>\n",
       "    <tr>\n",
       "      <th>mean</th>\n",
       "      <td>0.429212</td>\n",
       "      <td>49.584946</td>\n",
       "      <td>1.978950</td>\n",
       "      <td>0.494101</td>\n",
       "      <td>9.003089</td>\n",
       "      <td>0.029630</td>\n",
       "      <td>0.005899</td>\n",
       "      <td>0.310524</td>\n",
       "      <td>0.025720</td>\n",
       "      <td>236.721585</td>\n",
       "      <td>132.352407</td>\n",
       "      <td>82.893464</td>\n",
       "      <td>25.802008</td>\n",
       "      <td>75.878924</td>\n",
       "      <td>81.966753</td>\n",
       "      <td>0.151958</td>\n",
       "    </tr>\n",
       "    <tr>\n",
       "      <th>std</th>\n",
       "      <td>0.495022</td>\n",
       "      <td>8.572160</td>\n",
       "      <td>1.019791</td>\n",
       "      <td>0.500024</td>\n",
       "      <td>11.920094</td>\n",
       "      <td>0.169584</td>\n",
       "      <td>0.076587</td>\n",
       "      <td>0.462763</td>\n",
       "      <td>0.158316</td>\n",
       "      <td>44.590334</td>\n",
       "      <td>22.038097</td>\n",
       "      <td>11.910850</td>\n",
       "      <td>4.080111</td>\n",
       "      <td>12.026596</td>\n",
       "      <td>23.959998</td>\n",
       "      <td>0.359023</td>\n",
       "    </tr>\n",
       "    <tr>\n",
       "      <th>min</th>\n",
       "      <td>0.000000</td>\n",
       "      <td>32.000000</td>\n",
       "      <td>1.000000</td>\n",
       "      <td>0.000000</td>\n",
       "      <td>0.000000</td>\n",
       "      <td>0.000000</td>\n",
       "      <td>0.000000</td>\n",
       "      <td>0.000000</td>\n",
       "      <td>0.000000</td>\n",
       "      <td>107.000000</td>\n",
       "      <td>83.500000</td>\n",
       "      <td>48.000000</td>\n",
       "      <td>15.540000</td>\n",
       "      <td>44.000000</td>\n",
       "      <td>40.000000</td>\n",
       "      <td>0.000000</td>\n",
       "    </tr>\n",
       "    <tr>\n",
       "      <th>25%</th>\n",
       "      <td>0.000000</td>\n",
       "      <td>42.000000</td>\n",
       "      <td>1.000000</td>\n",
       "      <td>0.000000</td>\n",
       "      <td>0.000000</td>\n",
       "      <td>0.000000</td>\n",
       "      <td>0.000000</td>\n",
       "      <td>0.000000</td>\n",
       "      <td>0.000000</td>\n",
       "      <td>206.000000</td>\n",
       "      <td>117.000000</td>\n",
       "      <td>75.000000</td>\n",
       "      <td>23.070000</td>\n",
       "      <td>68.000000</td>\n",
       "      <td>71.000000</td>\n",
       "      <td>0.000000</td>\n",
       "    </tr>\n",
       "    <tr>\n",
       "      <th>50%</th>\n",
       "      <td>0.000000</td>\n",
       "      <td>49.000000</td>\n",
       "      <td>2.000000</td>\n",
       "      <td>0.000000</td>\n",
       "      <td>0.000000</td>\n",
       "      <td>0.000000</td>\n",
       "      <td>0.000000</td>\n",
       "      <td>0.000000</td>\n",
       "      <td>0.000000</td>\n",
       "      <td>234.000000</td>\n",
       "      <td>128.000000</td>\n",
       "      <td>82.000000</td>\n",
       "      <td>25.400000</td>\n",
       "      <td>75.000000</td>\n",
       "      <td>78.000000</td>\n",
       "      <td>0.000000</td>\n",
       "    </tr>\n",
       "    <tr>\n",
       "      <th>75%</th>\n",
       "      <td>1.000000</td>\n",
       "      <td>56.000000</td>\n",
       "      <td>3.000000</td>\n",
       "      <td>1.000000</td>\n",
       "      <td>20.000000</td>\n",
       "      <td>0.000000</td>\n",
       "      <td>0.000000</td>\n",
       "      <td>1.000000</td>\n",
       "      <td>0.000000</td>\n",
       "      <td>263.000000</td>\n",
       "      <td>144.000000</td>\n",
       "      <td>89.875000</td>\n",
       "      <td>28.040000</td>\n",
       "      <td>83.000000</td>\n",
       "      <td>87.000000</td>\n",
       "      <td>0.000000</td>\n",
       "    </tr>\n",
       "    <tr>\n",
       "      <th>max</th>\n",
       "      <td>1.000000</td>\n",
       "      <td>70.000000</td>\n",
       "      <td>4.000000</td>\n",
       "      <td>1.000000</td>\n",
       "      <td>70.000000</td>\n",
       "      <td>1.000000</td>\n",
       "      <td>1.000000</td>\n",
       "      <td>1.000000</td>\n",
       "      <td>1.000000</td>\n",
       "      <td>696.000000</td>\n",
       "      <td>295.000000</td>\n",
       "      <td>142.500000</td>\n",
       "      <td>56.800000</td>\n",
       "      <td>143.000000</td>\n",
       "      <td>394.000000</td>\n",
       "      <td>1.000000</td>\n",
       "    </tr>\n",
       "  </tbody>\n",
       "</table>\n",
       "</div>"
      ],
      "text/plain": [
       "              male          age    education  currentSmoker   cigsPerDay  \\\n",
       "count  4238.000000  4238.000000  4133.000000    4238.000000  4209.000000   \n",
       "mean      0.429212    49.584946     1.978950       0.494101     9.003089   \n",
       "std       0.495022     8.572160     1.019791       0.500024    11.920094   \n",
       "min       0.000000    32.000000     1.000000       0.000000     0.000000   \n",
       "25%       0.000000    42.000000     1.000000       0.000000     0.000000   \n",
       "50%       0.000000    49.000000     2.000000       0.000000     0.000000   \n",
       "75%       1.000000    56.000000     3.000000       1.000000    20.000000   \n",
       "max       1.000000    70.000000     4.000000       1.000000    70.000000   \n",
       "\n",
       "            BPMeds  prevalentStroke  prevalentHyp     diabetes      totChol  \\\n",
       "count  4185.000000      4238.000000   4238.000000  4238.000000  4188.000000   \n",
       "mean      0.029630         0.005899      0.310524     0.025720   236.721585   \n",
       "std       0.169584         0.076587      0.462763     0.158316    44.590334   \n",
       "min       0.000000         0.000000      0.000000     0.000000   107.000000   \n",
       "25%       0.000000         0.000000      0.000000     0.000000   206.000000   \n",
       "50%       0.000000         0.000000      0.000000     0.000000   234.000000   \n",
       "75%       0.000000         0.000000      1.000000     0.000000   263.000000   \n",
       "max       1.000000         1.000000      1.000000     1.000000   696.000000   \n",
       "\n",
       "             sysBP        diaBP          BMI    heartRate      glucose  \\\n",
       "count  4238.000000  4238.000000  4219.000000  4237.000000  3850.000000   \n",
       "mean    132.352407    82.893464    25.802008    75.878924    81.966753   \n",
       "std      22.038097    11.910850     4.080111    12.026596    23.959998   \n",
       "min      83.500000    48.000000    15.540000    44.000000    40.000000   \n",
       "25%     117.000000    75.000000    23.070000    68.000000    71.000000   \n",
       "50%     128.000000    82.000000    25.400000    75.000000    78.000000   \n",
       "75%     144.000000    89.875000    28.040000    83.000000    87.000000   \n",
       "max     295.000000   142.500000    56.800000   143.000000   394.000000   \n",
       "\n",
       "        TenYearCHD  \n",
       "count  4238.000000  \n",
       "mean      0.151958  \n",
       "std       0.359023  \n",
       "min       0.000000  \n",
       "25%       0.000000  \n",
       "50%       0.000000  \n",
       "75%       0.000000  \n",
       "max       1.000000  "
      ]
     },
     "execution_count": 3,
     "metadata": {},
     "output_type": "execute_result"
    }
   ],
   "source": [
    "data_raw.describe(include = 'all')"
   ]
  },
  {
   "cell_type": "code",
   "execution_count": 4,
   "id": "5b07dcb2",
   "metadata": {},
   "outputs": [
    {
     "data": {
      "text/plain": [
       "male                 0\n",
       "age                  0\n",
       "education          105\n",
       "currentSmoker        0\n",
       "cigsPerDay          29\n",
       "BPMeds              53\n",
       "prevalentStroke      0\n",
       "prevalentHyp         0\n",
       "diabetes             0\n",
       "totChol             50\n",
       "sysBP                0\n",
       "diaBP                0\n",
       "BMI                 19\n",
       "heartRate            1\n",
       "glucose            388\n",
       "TenYearCHD           0\n",
       "dtype: int64"
      ]
     },
     "execution_count": 4,
     "metadata": {},
     "output_type": "execute_result"
    }
   ],
   "source": [
    "data_raw.isna().sum()"
   ]
  },
  {
   "cell_type": "code",
   "execution_count": 5,
   "id": "de456095",
   "metadata": {},
   "outputs": [
    {
     "data": {
      "text/plain": [
       "male               0\n",
       "age                0\n",
       "education          0\n",
       "currentSmoker      0\n",
       "cigsPerDay         0\n",
       "BPMeds             0\n",
       "prevalentStroke    0\n",
       "prevalentHyp       0\n",
       "diabetes           0\n",
       "totChol            0\n",
       "sysBP              0\n",
       "diaBP              0\n",
       "BMI                0\n",
       "heartRate          0\n",
       "glucose            0\n",
       "TenYearCHD         0\n",
       "dtype: int64"
      ]
     },
     "execution_count": 5,
     "metadata": {},
     "output_type": "execute_result"
    }
   ],
   "source": [
    "data_raw.fillna(data_raw.median(axis = 0), axis=0 , inplace=True)\n",
    "data_raw.isna().sum()"
   ]
  },
  {
   "cell_type": "markdown",
   "id": "de6ffa70",
   "metadata": {},
   "source": [
    "Нормализация:"
   ]
  },
  {
   "cell_type": "code",
   "execution_count": 6,
   "id": "426de558",
   "metadata": {},
   "outputs": [
    {
     "data": {
      "text/html": [
       "<div>\n",
       "<style scoped>\n",
       "    .dataframe tbody tr th:only-of-type {\n",
       "        vertical-align: middle;\n",
       "    }\n",
       "\n",
       "    .dataframe tbody tr th {\n",
       "        vertical-align: top;\n",
       "    }\n",
       "\n",
       "    .dataframe thead th {\n",
       "        text-align: right;\n",
       "    }\n",
       "</style>\n",
       "<table border=\"1\" class=\"dataframe\">\n",
       "  <thead>\n",
       "    <tr style=\"text-align: right;\">\n",
       "      <th></th>\n",
       "      <th>male</th>\n",
       "      <th>age</th>\n",
       "      <th>education</th>\n",
       "      <th>currentSmoker</th>\n",
       "      <th>cigsPerDay</th>\n",
       "      <th>BPMeds</th>\n",
       "      <th>prevalentStroke</th>\n",
       "      <th>prevalentHyp</th>\n",
       "      <th>diabetes</th>\n",
       "      <th>totChol</th>\n",
       "      <th>sysBP</th>\n",
       "      <th>diaBP</th>\n",
       "      <th>BMI</th>\n",
       "      <th>heartRate</th>\n",
       "      <th>glucose</th>\n",
       "      <th>TenYearCHD</th>\n",
       "    </tr>\n",
       "  </thead>\n",
       "  <tbody>\n",
       "    <tr>\n",
       "      <th>count</th>\n",
       "      <td>4.238000e+03</td>\n",
       "      <td>4.238000e+03</td>\n",
       "      <td>4.238000e+03</td>\n",
       "      <td>4.238000e+03</td>\n",
       "      <td>4.238000e+03</td>\n",
       "      <td>4.238000e+03</td>\n",
       "      <td>4.238000e+03</td>\n",
       "      <td>4.238000e+03</td>\n",
       "      <td>4.238000e+03</td>\n",
       "      <td>4.238000e+03</td>\n",
       "      <td>4.238000e+03</td>\n",
       "      <td>4.238000e+03</td>\n",
       "      <td>4.238000e+03</td>\n",
       "      <td>4.238000e+03</td>\n",
       "      <td>4.238000e+03</td>\n",
       "      <td>4.238000e+03</td>\n",
       "    </tr>\n",
       "    <tr>\n",
       "      <th>mean</th>\n",
       "      <td>2.543715e-16</td>\n",
       "      <td>1.132490e-16</td>\n",
       "      <td>3.885339e-16</td>\n",
       "      <td>-1.383456e-16</td>\n",
       "      <td>-1.692579e-16</td>\n",
       "      <td>-7.560022e-16</td>\n",
       "      <td>7.396946e-16</td>\n",
       "      <td>-2.357194e-16</td>\n",
       "      <td>-1.518331e-15</td>\n",
       "      <td>-8.369898e-17</td>\n",
       "      <td>-4.479041e-16</td>\n",
       "      <td>2.798844e-16</td>\n",
       "      <td>3.155884e-15</td>\n",
       "      <td>-2.261444e-16</td>\n",
       "      <td>2.508088e-16</td>\n",
       "      <td>-3.832863e-16</td>\n",
       "    </tr>\n",
       "    <tr>\n",
       "      <th>std</th>\n",
       "      <td>1.000000e+00</td>\n",
       "      <td>1.000000e+00</td>\n",
       "      <td>1.000000e+00</td>\n",
       "      <td>1.000000e+00</td>\n",
       "      <td>1.000000e+00</td>\n",
       "      <td>1.000000e+00</td>\n",
       "      <td>1.000000e+00</td>\n",
       "      <td>1.000000e+00</td>\n",
       "      <td>1.000000e+00</td>\n",
       "      <td>1.000000e+00</td>\n",
       "      <td>1.000000e+00</td>\n",
       "      <td>1.000000e+00</td>\n",
       "      <td>1.000000e+00</td>\n",
       "      <td>1.000000e+00</td>\n",
       "      <td>1.000000e+00</td>\n",
       "      <td>1.000000e+00</td>\n",
       "    </tr>\n",
       "    <tr>\n",
       "      <th>min</th>\n",
       "      <td>-8.670560e-01</td>\n",
       "      <td>-2.051402e+00</td>\n",
       "      <td>-9.725849e-01</td>\n",
       "      <td>-9.881542e-01</td>\n",
       "      <td>-7.512336e-01</td>\n",
       "      <td>-1.735911e-01</td>\n",
       "      <td>-7.702346e-02</td>\n",
       "      <td>-6.710217e-01</td>\n",
       "      <td>-1.624574e-01</td>\n",
       "      <td>-2.925716e+00</td>\n",
       "      <td>-2.216725e+00</td>\n",
       "      <td>-2.929553e+00</td>\n",
       "      <td>-2.520290e+00</td>\n",
       "      <td>-2.650996e+00</td>\n",
       "      <td>-1.819512e+00</td>\n",
       "      <td>-4.232555e-01</td>\n",
       "    </tr>\n",
       "    <tr>\n",
       "      <th>25%</th>\n",
       "      <td>-8.670560e-01</td>\n",
       "      <td>-8.848348e-01</td>\n",
       "      <td>-9.725849e-01</td>\n",
       "      <td>-9.881542e-01</td>\n",
       "      <td>-7.512336e-01</td>\n",
       "      <td>-1.735911e-01</td>\n",
       "      <td>-7.702346e-02</td>\n",
       "      <td>-6.710217e-01</td>\n",
       "      <td>-1.624574e-01</td>\n",
       "      <td>-6.923361e-01</td>\n",
       "      <td>-6.966303e-01</td>\n",
       "      <td>-6.627121e-01</td>\n",
       "      <td>-6.681842e-01</td>\n",
       "      <td>-6.551847e-01</td>\n",
       "      <td>-4.200080e-01</td>\n",
       "      <td>-4.232555e-01</td>\n",
       "    </tr>\n",
       "    <tr>\n",
       "      <th>50%</th>\n",
       "      <td>-8.670560e-01</td>\n",
       "      <td>-6.823785e-02</td>\n",
       "      <td>2.038422e-02</td>\n",
       "      <td>-9.881542e-01</td>\n",
       "      <td>-7.512336e-01</td>\n",
       "      <td>-1.735911e-01</td>\n",
       "      <td>-7.702346e-02</td>\n",
       "      <td>-6.710217e-01</td>\n",
       "      <td>-1.624574e-01</td>\n",
       "      <td>-6.067296e-02</td>\n",
       "      <td>-1.974947e-01</td>\n",
       "      <td>-7.501261e-02</td>\n",
       "      <td>-9.830539e-02</td>\n",
       "      <td>-7.307301e-02</td>\n",
       "      <td>-1.576010e-01</td>\n",
       "      <td>-4.232555e-01</td>\n",
       "    </tr>\n",
       "    <tr>\n",
       "      <th>75%</th>\n",
       "      <td>1.153056e+00</td>\n",
       "      <td>7.483591e-01</td>\n",
       "      <td>1.013353e+00</td>\n",
       "      <td>1.011749e+00</td>\n",
       "      <td>9.291000e-01</td>\n",
       "      <td>-1.735911e-01</td>\n",
       "      <td>-7.702346e-02</td>\n",
       "      <td>1.489913e+00</td>\n",
       "      <td>-1.624574e-01</td>\n",
       "      <td>5.709901e-01</td>\n",
       "      <td>5.285208e-01</td>\n",
       "      <td>5.861493e-01</td>\n",
       "      <td>5.495633e-01</td>\n",
       "      <td>5.921974e-01</td>\n",
       "      <td>1.485404e-01</td>\n",
       "      <td>-4.232555e-01</td>\n",
       "    </tr>\n",
       "    <tr>\n",
       "      <th>max</th>\n",
       "      <td>1.153056e+00</td>\n",
       "      <td>2.381553e+00</td>\n",
       "      <td>2.006322e+00</td>\n",
       "      <td>1.011749e+00</td>\n",
       "      <td>5.129934e+00</td>\n",
       "      <td>5.759305e+00</td>\n",
       "      <td>1.297999e+01</td>\n",
       "      <td>1.489913e+00</td>\n",
       "      <td>6.154006e+00</td>\n",
       "      <td>1.036177e+01</td>\n",
       "      <td>7.380292e+00</td>\n",
       "      <td>5.004390e+00</td>\n",
       "      <td>7.614709e+00</td>\n",
       "      <td>5.581726e+00</td>\n",
       "      <td>1.366250e+01</td>\n",
       "      <td>2.362081e+00</td>\n",
       "    </tr>\n",
       "  </tbody>\n",
       "</table>\n",
       "</div>"
      ],
      "text/plain": [
       "               male           age     education  currentSmoker    cigsPerDay  \\\n",
       "count  4.238000e+03  4.238000e+03  4.238000e+03   4.238000e+03  4.238000e+03   \n",
       "mean   2.543715e-16  1.132490e-16  3.885339e-16  -1.383456e-16 -1.692579e-16   \n",
       "std    1.000000e+00  1.000000e+00  1.000000e+00   1.000000e+00  1.000000e+00   \n",
       "min   -8.670560e-01 -2.051402e+00 -9.725849e-01  -9.881542e-01 -7.512336e-01   \n",
       "25%   -8.670560e-01 -8.848348e-01 -9.725849e-01  -9.881542e-01 -7.512336e-01   \n",
       "50%   -8.670560e-01 -6.823785e-02  2.038422e-02  -9.881542e-01 -7.512336e-01   \n",
       "75%    1.153056e+00  7.483591e-01  1.013353e+00   1.011749e+00  9.291000e-01   \n",
       "max    1.153056e+00  2.381553e+00  2.006322e+00   1.011749e+00  5.129934e+00   \n",
       "\n",
       "             BPMeds  prevalentStroke  prevalentHyp      diabetes  \\\n",
       "count  4.238000e+03     4.238000e+03  4.238000e+03  4.238000e+03   \n",
       "mean  -7.560022e-16     7.396946e-16 -2.357194e-16 -1.518331e-15   \n",
       "std    1.000000e+00     1.000000e+00  1.000000e+00  1.000000e+00   \n",
       "min   -1.735911e-01    -7.702346e-02 -6.710217e-01 -1.624574e-01   \n",
       "25%   -1.735911e-01    -7.702346e-02 -6.710217e-01 -1.624574e-01   \n",
       "50%   -1.735911e-01    -7.702346e-02 -6.710217e-01 -1.624574e-01   \n",
       "75%   -1.735911e-01    -7.702346e-02  1.489913e+00 -1.624574e-01   \n",
       "max    5.759305e+00     1.297999e+01  1.489913e+00  6.154006e+00   \n",
       "\n",
       "            totChol         sysBP         diaBP           BMI     heartRate  \\\n",
       "count  4.238000e+03  4.238000e+03  4.238000e+03  4.238000e+03  4.238000e+03   \n",
       "mean  -8.369898e-17 -4.479041e-16  2.798844e-16  3.155884e-15 -2.261444e-16   \n",
       "std    1.000000e+00  1.000000e+00  1.000000e+00  1.000000e+00  1.000000e+00   \n",
       "min   -2.925716e+00 -2.216725e+00 -2.929553e+00 -2.520290e+00 -2.650996e+00   \n",
       "25%   -6.923361e-01 -6.966303e-01 -6.627121e-01 -6.681842e-01 -6.551847e-01   \n",
       "50%   -6.067296e-02 -1.974947e-01 -7.501261e-02 -9.830539e-02 -7.307301e-02   \n",
       "75%    5.709901e-01  5.285208e-01  5.861493e-01  5.495633e-01  5.921974e-01   \n",
       "max    1.036177e+01  7.380292e+00  5.004390e+00  7.614709e+00  5.581726e+00   \n",
       "\n",
       "            glucose    TenYearCHD  \n",
       "count  4.238000e+03  4.238000e+03  \n",
       "mean   2.508088e-16 -3.832863e-16  \n",
       "std    1.000000e+00  1.000000e+00  \n",
       "min   -1.819512e+00 -4.232555e-01  \n",
       "25%   -4.200080e-01 -4.232555e-01  \n",
       "50%   -1.576010e-01 -4.232555e-01  \n",
       "75%    1.485404e-01 -4.232555e-01  \n",
       "max    1.366250e+01  2.362081e+00  "
      ]
     },
     "execution_count": 6,
     "metadata": {},
     "output_type": "execute_result"
    }
   ],
   "source": [
    "data_stand = (data_raw - data_raw.mean(axis = 0))/data_raw.std(axis = 0)\n",
    "data_stand.describe()"
   ]
  },
  {
   "cell_type": "markdown",
   "id": "7c03f197",
   "metadata": {},
   "source": [
    "Разобьем данные на обучающую и тестовую выборки в пропорции:"
   ]
  },
  {
   "cell_type": "code",
   "execution_count": 12,
   "id": "daa79ca7",
   "metadata": {},
   "outputs": [
    {
     "data": {
      "text/plain": [
       "(3178, 1060)"
      ]
     },
     "execution_count": 12,
     "metadata": {},
     "output_type": "execute_result"
    }
   ],
   "source": [
    "X = data_stand.drop(['TenYearCHD', 'education'], axis=1)\n",
    "y = data_raw['TenYearCHD']\n",
    "from sklearn.model_selection import train_test_split\n",
    "X_train, X_test, y_train, y_test = train_test_split(X, y, test_size = 0.25, random_state = 42)\n",
    "\n",
    "N_train, _ = X_train.shape \n",
    "N_test,  _ = X_test.shape \n",
    "\n",
    "N_train, N_test"
   ]
  },
  {
   "cell_type": "markdown",
   "id": "9571cdab",
   "metadata": {},
   "source": [
    "# Несбалансированность классов"
   ]
  },
  {
   "cell_type": "code",
   "execution_count": 13,
   "id": "fee115a6",
   "metadata": {},
   "outputs": [
    {
     "data": {
      "image/png": "[encoded data removed]",
      "text/plain": [
       "<Figure size 432x288 with 2 Axes>"
      ]
     },
     "metadata": {
      "needs_background": "light"
     },
     "output_type": "display_data"
    }
   ],
   "source": [
    "from sklearn.neighbors import KNeighborsClassifier\n",
    "knn = KNeighborsClassifier(n_neighbors = 11)\n",
    "knn.fit(X_train, y_train)\n",
    "\n",
    "y_test_predict = knn.predict(X_test)\n",
    "\n",
    "error_results = dict()\n",
    "error_results[\"NeuralNetwork\"] = [0.135]\n",
    "\n",
    "from sklearn.metrics import confusion_matrix, plot_confusion_matrix\n",
    "plot_confusion_matrix(knn, X_test, y_test, normalize='true', cmap='coolwarm')\n",
    "pass"
   ]
  },
  {
   "cell_type": "markdown",
   "id": "4ff6189f",
   "metadata": {},
   "source": [
    "Классификатор хорошо предсказывает отсутствие сердечно-сосудистого заболевания. Вероятность корректного предсказания наличия сердечно-сосудистого заболевания мала. Следовательно, присутствует несбалансированность."
   ]
  },
  {
   "cell_type": "code",
   "execution_count": 14,
   "id": "b8b69de0",
   "metadata": {},
   "outputs": [
    {
     "data": {
      "image/png": "[encoded data removed]",
      "text/plain": [
       "<Figure size 432x288 with 1 Axes>"
      ]
     },
     "metadata": {
      "needs_background": "light"
     },
     "output_type": "display_data"
    }
   ],
   "source": [
    "sns.countplot(x=['TenYearCHD', 'education'], data = y)\n",
    "pass"
   ]
  },
  {
   "cell_type": "code",
   "execution_count": 16,
   "id": "af99d746",
   "metadata": {},
   "outputs": [],
   "source": [
    "from imblearn.over_sampling import SMOTE\n",
    "X_train_balanc, Y_train_balanc = SMOTE().fit_resample(X_train, y_train)\n",
    "X_train_balanc = pd.DataFrame(X_train_balanc)\n",
    "Y_train_balanc = pd.DataFrame(Y_train_balanc)"
   ]
  },
  {
   "cell_type": "code",
   "execution_count": 19,
   "id": "cc9888ba",
   "metadata": {},
   "outputs": [
    {
     "name": "stdout",
     "output_type": "stream",
     "text": [
      "0.38018867924528305\n"
     ]
    },
    {
     "data": {
      "image/png": "[encoded data removed]",
      "text/plain": [
       "<Figure size 432x288 with 2 Axes>"
      ]
     },
     "metadata": {
      "needs_background": "light"
     },
     "output_type": "display_data"
    }
   ],
   "source": [
    "from sklearn.neighbors import KNeighborsClassifier\n",
    "knn = KNeighborsClassifier(n_neighbors = 11)\n",
    "knn.fit(X_train_balanc, Y_train_balanc.values.ravel())\n",
    "from sklearn.metrics import confusion_matrix, plot_confusion_matrix\n",
    "plot_confusion_matrix(knn, X_test, y_test, normalize='true', cmap='coolwarm')\n",
    "\n",
    "y_test_pred = knn.predict(X_test)\n",
    "print(np.mean(y_test != y_test_pred))\n",
    "\n",
    "pass"
   ]
  },
  {
   "cell_type": "markdown",
   "id": "11b33229",
   "metadata": {},
   "source": [
    "Из графика видно, что повысилась точность предсказания наличия сердечно-сосудистого заболевания, однако точность предсказания отсутсвия сердечно-сосудистого заболевания понизилась."
   ]
  },
  {
   "cell_type": "markdown",
   "id": "0c6701b9",
   "metadata": {},
   "source": [
    "# Классификатор Decision tree"
   ]
  },
  {
   "cell_type": "code",
   "execution_count": 20,
   "id": "d8110f85",
   "metadata": {},
   "outputs": [],
   "source": [
    "from sklearn.tree import DecisionTreeClassifier\n",
    "\n",
    "n_max_depth = np.arange(1, 100, 2)\n",
    "test_err = []\n",
    "train_err = []\n",
    "for n in n_max_depth:\n",
    "    rf = DecisionTreeClassifier(max_depth = n, random_state = 0)\n",
    "    rf.fit(X_train, y_train)\n",
    "\n",
    "    y_train_pred = rf.predict(X_train)\n",
    "    y_test_pred = rf.predict(X_test)\n",
    "    train_err.append(np.mean(y_train != y_train_pred))\n",
    "    test_err.append(np.mean(y_test != y_test_pred))"
   ]
  },
  {
   "cell_type": "code",
   "execution_count": 21,
   "id": "90bba5bb",
   "metadata": {},
   "outputs": [
    {
     "data": {
      "image/png": "[encoded data removed]",
      "text/plain": [
       "<Figure size 1080x360 with 1 Axes>"
      ]
     },
     "metadata": {
      "needs_background": "light"
     },
     "output_type": "display_data"
    }
   ],
   "source": [
    "plt.figure(figsize=(15, 5))\n",
    "plt.plot(n_max_depth, train_err, 'b-o', label = 'train')\n",
    "plt.plot(n_max_depth, test_err, 'r-o', label = 'test')\n",
    "plt.title('error vs. max depth')\n",
    "plt.xlabel('max depth')\n",
    "plt.ylabel('error')\n",
    "plt.legend()\n",
    "\n",
    "pass"
   ]
  },
  {
   "cell_type": "code",
   "execution_count": 22,
   "id": "b8d3fda3",
   "metadata": {},
   "outputs": [
    {
     "name": "stdout",
     "output_type": "stream",
     "text": [
      "0.0 0.14339622641509434\n",
      "[1]\n",
      "0.15481434864694776\n",
      "0.14339622641509434\n"
     ]
    }
   ],
   "source": [
    "min_train_err = np.min(train_err)\n",
    "min_test_err = np.min(test_err)\n",
    "print(min_train_err, min_test_err)\n",
    "n_max_depth_opt = n_max_depth[test_err == min_test_err]\n",
    "print(n_max_depth_opt)\n",
    "rf = DecisionTreeClassifier(max_depth = n_max_depth_opt[0], random_state = 0)\n",
    "rf.fit(X_train, y_train)\n",
    "\n",
    "y_train_pred = rf.predict(X_train)\n",
    "y_test_pred = rf.predict(X_test)\n",
    "print(np.mean(y_train != y_train_pred))\n",
    "print(np.mean(y_test != y_test_pred))\n",
    "\n",
    "error_results[\"DecisionTreeClassifier\"] = [np.mean(y_test != y_test_pred)]"
   ]
  },
  {
   "cell_type": "markdown",
   "id": "961c9f75",
   "metadata": {},
   "source": [
    "# Классификатор Random Forest"
   ]
  },
  {
   "cell_type": "code",
   "execution_count": 26,
   "id": "728407b6",
   "metadata": {},
   "outputs": [],
   "source": [
    "from sklearn import ensemble\n",
    "\n",
    "n_estimators = np.arange(10, 500, 10)\n",
    "test_err = []\n",
    "train_err = []\n",
    "for n in n_estimators:\n",
    "    rf = ensemble.RandomForestClassifier(n_estimators = n, random_state = 0, oob_score=True)\n",
    "    rf.fit(X_train, y_train)\n",
    "\n",
    "    y_train_pred = rf.predict(X_train)\n",
    "    y_test_pred = rf.predict(X_test)\n",
    "    train_err.append(np.mean(y_train != y_train_pred))\n",
    "    test_err.append(np.mean(y_test != y_test_pred))"
   ]
  },
  {
   "cell_type": "code",
   "execution_count": 27,
   "id": "5f710dab",
   "metadata": {},
   "outputs": [
    {
     "data": {
      "image/png": "[encoded data removed]",
      "text/plain": [
       "<Figure size 1080x360 with 1 Axes>"
      ]
     },
     "metadata": {
      "needs_background": "light"
     },
     "output_type": "display_data"
    }
   ],
   "source": [
    "plt.figure(figsize=(15, 5))\n",
    "plt.plot(n_estimators, train_err, 'b-o', label = 'train')\n",
    "plt.plot(n_estimators, test_err, 'r-o', label = 'test')\n",
    "plt.title('error vs. number of estimators')\n",
    "plt.xlabel('number of estimators')\n",
    "plt.ylabel('error')\n",
    "plt.legend()\n",
    "\n",
    "pass"
   ]
  },
  {
   "cell_type": "code",
   "execution_count": 28,
   "id": "5265d87d",
   "metadata": {},
   "outputs": [
    {
     "name": "stdout",
     "output_type": "stream",
     "text": [
      "0.0 0.1349056603773585\n",
      "[390 400 420 430 460]\n",
      "0.0\n",
      "0.1349056603773585\n"
     ]
    }
   ],
   "source": [
    "min_train_err = np.min(train_err)\n",
    "min_test_err = np.min(test_err)\n",
    "print(min_train_err, min_test_err)\n",
    "n_estimators_opt = n_estimators[test_err == min_test_err]\n",
    "print(n_estimators_opt)\n",
    "rf = ensemble.RandomForestClassifier(n_estimators = n_estimators_opt[0], random_state = 0)\n",
    "rf.fit(X_train, y_train)\n",
    "\n",
    "y_train_pred = rf.predict(X_train)\n",
    "y_test_pred = rf.predict(X_test)\n",
    "print(np.mean(y_train != y_train_pred))\n",
    "print(np.mean(y_test != y_test_pred))\n",
    "\n",
    "error_results[\"RandomForestClassifier\"] = [np.mean(y_test != y_test_pred)]"
   ]
  },
  {
   "cell_type": "markdown",
   "id": "a91472e1",
   "metadata": {},
   "source": [
    "# Классификатор Extremely Randomized Trees"
   ]
  },
  {
   "cell_type": "code",
   "execution_count": 29,
   "id": "7118d375",
   "metadata": {},
   "outputs": [],
   "source": [
    "from sklearn.ensemble import RandomForestClassifier\n",
    "from sklearn.datasets import make_classification\n",
    "\n",
    "n_estimators = np.arange(10, 500, 10)\n",
    "test_err = []\n",
    "train_err = []\n",
    "for n in n_estimators:\n",
    "    rf = ensemble.ExtraTreesClassifier(n_estimators = n, random_state = 0)\n",
    "    rf.fit(X_train, y_train)\n",
    "\n",
    "    y_train_pred = rf.predict(X_train)\n",
    "    y_test_pred = rf.predict(X_test)\n",
    "    train_err.append(np.mean(y_train != y_train_pred))\n",
    "    test_err.append(np.mean(y_test != y_test_pred))"
   ]
  },
  {
   "cell_type": "code",
   "execution_count": 30,
   "id": "25080262",
   "metadata": {},
   "outputs": [
    {
     "data": {
      "image/png": "[encoded data removed]",
      "text/plain": [
       "<Figure size 1080x360 with 1 Axes>"
      ]
     },
     "metadata": {
      "needs_background": "light"
     },
     "output_type": "display_data"
    }
   ],
   "source": [
    "plt.figure(figsize=(15, 5))\n",
    "plt.plot(n_estimators, train_err, 'b-o', label = 'train')\n",
    "plt.plot(n_estimators, test_err, 'r-o', label = 'test')\n",
    "plt.title('error vs. number of estimators')\n",
    "plt.xlabel('number of estimators')\n",
    "plt.ylabel('error')\n",
    "plt.legend()\n",
    "\n",
    "pass"
   ]
  },
  {
   "cell_type": "code",
   "execution_count": 31,
   "id": "40df1455",
   "metadata": {},
   "outputs": [
    {
     "name": "stdout",
     "output_type": "stream",
     "text": [
      "0.0 0.14056603773584905\n",
      "[210]\n",
      "0.0\n",
      "0.14056603773584905\n"
     ]
    }
   ],
   "source": [
    "min_train_err = np.min(train_err)\n",
    "min_test_err = np.min(test_err)\n",
    "print(min_train_err, min_test_err)\n",
    "n_estimators_opt = n_estimators[test_err == min_test_err]\n",
    "print(n_estimators_opt)\n",
    "rf = ensemble.ExtraTreesClassifier(n_estimators = n_estimators_opt[0], random_state = 0)\n",
    "rf.fit(X_train, y_train)\n",
    "\n",
    "y_train_pred = rf.predict(X_train)\n",
    "y_test_pred = rf.predict(X_test)\n",
    "print(np.mean(y_train != y_train_pred))\n",
    "print(np.mean(y_test != y_test_pred))\n",
    "\n",
    "error_results[\"ExtraTreesClassifier\"] = [np.mean(y_test != y_test_pred)]"
   ]
  },
  {
   "cell_type": "markdown",
   "id": "e32db124",
   "metadata": {},
   "source": [
    "# Общие выводы"
   ]
  },
  {
   "cell_type": "code",
   "execution_count": 32,
   "id": "336bbbad",
   "metadata": {},
   "outputs": [
    {
     "name": "stdout",
     "output_type": "stream",
     "text": [
      "NeuralNetwork 0.135\n",
      "DecisionTreeClassifier 0.14339622641509434\n",
      "RandomForestClassifier 0.1349056603773585\n",
      "ExtraTreesClassifier 0.14056603773584905\n"
     ]
    }
   ],
   "source": [
    "for k, val in error_results.items():\n",
    "    print(k, val[0])"
   ]
  },
  {
   "cell_type": "markdown",
   "id": "b941325e",
   "metadata": {},
   "source": [
    "По результатам, наименьшая ошибка получается при использовании нейронной сети и классификатора RandomForest."
   ]
  }
 ],
 "metadata": {
  "kernelspec": {
   "display_name": "Python 3",
   "language": "python",
   "name": "python3"
  },
  "language_info": {
   "codemirror_mode": {
    "name": "ipython",
    "version": 3
   },
   "file_extension": ".py",
   "mimetype": "text/x-python",
   "name": "python",
   "nbconvert_exporter": "python",
   "pygments_lexer": "ipython3",
   "version": "3.8.8"
  }
 },
 "nbformat": 4,
 "nbformat_minor": 5
}
